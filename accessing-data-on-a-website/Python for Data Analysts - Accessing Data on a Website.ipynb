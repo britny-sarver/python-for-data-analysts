{
 "cells": [
  {
   "cell_type": "markdown",
   "id": "9f7ea2fc",
   "metadata": {},
   "source": [
    "# Step 1\n",
    "Import your libraries."
   ]
  },
  {
   "cell_type": "code",
   "execution_count": null,
   "id": "84e8e92e",
   "metadata": {},
   "outputs": [],
   "source": [
    "# Import libraries\n",
    "import pandas as pd"
   ]
  },
  {
   "cell_type": "markdown",
   "id": "68f8c19a",
   "metadata": {},
   "source": [
    "# Step 2\n",
    "Create an object that stores the path to the desired website."
   ]
  },
  {
   "cell_type": "code",
   "execution_count": null,
   "id": "c014db1e",
   "metadata": {},
   "outputs": [],
   "source": [
    "# Create URL Object\n",
    "url = 'https://en.wikipedia.org/wiki/List_of_states_and_territories_of_the_United_States#:~:text=States%20of%20the%20United%20States%20of%20America%20,Feb%2014%2C%201912%20%2015%20more%20rows%20'"
   ]
  },
  {
   "cell_type": "markdown",
   "id": "b085e58b",
   "metadata": {},
   "source": [
    "# Step 3\n",
    "Create an object that reads and stores the list of tables from the desired website."
   ]
  },
  {
   "cell_type": "code",
   "execution_count": null,
   "id": "910320ce",
   "metadata": {},
   "outputs": [],
   "source": [
    "# Create Data Frame From HTML Table\n",
    "website_df = pd.read_html(url)"
   ]
  },
  {
   "cell_type": "markdown",
   "id": "efec85ad",
   "metadata": {},
   "source": [
    "# Step 4\n",
    "Validate what you have read in from the desired website by checking the data type and length."
   ]
  },
  {
   "cell_type": "code",
   "execution_count": null,
   "id": "2027822d",
   "metadata": {},
   "outputs": [],
   "source": [
    "# Check the Object Type\n",
    "type(website_df)"
   ]
  },
  {
   "cell_type": "code",
   "execution_count": null,
   "id": "891a6700",
   "metadata": {},
   "outputs": [],
   "source": [
    "# Check How Many Items Are In the Object\n",
    "len(website_df)"
   ]
  },
  {
   "cell_type": "markdown",
   "id": "d77c2313",
   "metadata": {},
   "source": [
    "# Step 5\n",
    "Discovering which table you are looking for out of the tables read from the desired website."
   ]
  },
  {
   "cell_type": "code",
   "execution_count": null,
   "id": "3b14f88a",
   "metadata": {},
   "outputs": [],
   "source": [
    "# Look at the First Item in the Object\n",
    "website_df[0]"
   ]
  },
  {
   "cell_type": "code",
   "execution_count": null,
   "id": "9e60f2c0",
   "metadata": {},
   "outputs": [],
   "source": [
    "# Look at the Second Item in the Object\n",
    "website_df[1]"
   ]
  }
 ],
 "metadata": {
  "kernelspec": {
   "display_name": "Python 3 (ipykernel)",
   "language": "python",
   "name": "python3"
  },
  "language_info": {
   "codemirror_mode": {
    "name": "ipython",
    "version": 3
   },
   "file_extension": ".py",
   "mimetype": "text/x-python",
   "name": "python",
   "nbconvert_exporter": "python",
   "pygments_lexer": "ipython3",
   "version": "3.9.13"
  }
 },
 "nbformat": 4,
 "nbformat_minor": 5
}
