{
 "cells": [
  {
   "cell_type": "markdown",
   "id": "9f7ea2fc",
   "metadata": {},
   "source": [
    "# Step 1\n",
    "Import your libraries."
   ]
  },
  {
   "cell_type": "code",
   "execution_count": null,
   "id": "84e8e92e",
   "metadata": {},
   "outputs": [],
   "source": [
    "# Import Libraries\n",
    "import pandas as pd"
   ]
  },
  {
   "cell_type": "markdown",
   "id": "0411bca8",
   "metadata": {},
   "source": [
    "# Step 2\n",
    "Create an object that stores the path for your Excel file."
   ]
  },
  {
   "cell_type": "code",
   "execution_count": null,
   "id": "6ba768f4",
   "metadata": {
    "scrolled": true
   },
   "outputs": [],
   "source": [
    "# Create File Path Object\n",
    "excel_path = r'C:\\Users\\britny.sarver\\Documents\\Python\\SampleData\\SampleDataFromContextures\\SampleDataFromContextures.xlsx'"
   ]
  },
  {
   "cell_type": "markdown",
   "id": "8cf99026",
   "metadata": {},
   "source": [
    "# Step 3\n",
    "Create an object that stores the name of the sheet you want to read data from in your Excel file."
   ]
  },
  {
   "cell_type": "code",
   "execution_count": null,
   "id": "06b6f36b",
   "metadata": {},
   "outputs": [],
   "source": [
    "# Create Sheet Name Object\n",
    "excel_sheet = 'SalesOrders'"
   ]
  },
  {
   "cell_type": "markdown",
   "id": "a2687d6d",
   "metadata": {},
   "source": [
    "# Step 4\n",
    "Create an object that reads and stores the data from the sheet in your Excel file."
   ]
  },
  {
   "cell_type": "code",
   "execution_count": null,
   "id": "182e5e98",
   "metadata": {},
   "outputs": [],
   "source": [
    "# Create Data Frame from Excel File\n",
    "excel_df = pd.read_excel(excel_path, sheet_name = excel_sheet)"
   ]
  },
  {
   "cell_type": "markdown",
   "id": "d3bd0f61",
   "metadata": {},
   "source": [
    "# Step 5\n",
    "View your data."
   ]
  },
  {
   "cell_type": "code",
   "execution_count": null,
   "id": "715d0e5b",
   "metadata": {},
   "outputs": [],
   "source": [
    "# Look at the Data Frame\n",
    "excel_df"
   ]
  }
 ],
 "metadata": {
  "kernelspec": {
   "display_name": "Python 3 (ipykernel)",
   "language": "python",
   "name": "python3"
  },
  "language_info": {
   "codemirror_mode": {
    "name": "ipython",
    "version": 3
   },
   "file_extension": ".py",
   "mimetype": "text/x-python",
   "name": "python",
   "nbconvert_exporter": "python",
   "pygments_lexer": "ipython3",
   "version": "3.9.13"
  }
 },
 "nbformat": 4,
 "nbformat_minor": 5
}
