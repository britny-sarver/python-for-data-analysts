{
 "cells": [
  {
   "cell_type": "markdown",
   "id": "f57d7841",
   "metadata": {},
   "source": [
    "# Step 1\n",
    "Import your libraries."
   ]
  },
  {
   "cell_type": "code",
   "execution_count": null,
   "id": "f046ae7e",
   "metadata": {},
   "outputs": [],
   "source": [
    "# Import Libraries\n",
    "import pandas as pd\n",
    "import numpy as np"
   ]
  },
  {
   "cell_type": "markdown",
   "id": "4717381a",
   "metadata": {},
   "source": [
    "# Step 2\n",
    "Create an object that stores the path for your Excel file."
   ]
  },
  {
   "cell_type": "code",
   "execution_count": null,
   "id": "e1d48004",
   "metadata": {},
   "outputs": [],
   "source": [
    "# Create File Path Object\n",
    "path = r'C:\\Users\\britny.sarver\\Documents\\Python\\SampleData\\DummyData_RandomUseCase.xlsx'"
   ]
  },
  {
   "cell_type": "markdown",
   "id": "a77b847b",
   "metadata": {},
   "source": [
    "# Step 3\n",
    "Create an object that reads and stores the data from the sheet in your Excel file."
   ]
  },
  {
   "cell_type": "code",
   "execution_count": null,
   "id": "1eb0d747",
   "metadata": {},
   "outputs": [],
   "source": [
    "# Create Data Frame from Excel File\n",
    "df = pd.read_excel(path)"
   ]
  },
  {
   "cell_type": "markdown",
   "id": "06b19b93",
   "metadata": {},
   "source": [
    "# Step 4\n",
    "Check the shape of your data."
   ]
  },
  {
   "cell_type": "code",
   "execution_count": null,
   "id": "c634cb3f",
   "metadata": {},
   "outputs": [],
   "source": [
    "# Check the Shape of the Data (rows, columns)\n",
    "df.shape"
   ]
  },
  {
   "cell_type": "markdown",
   "id": "e61af3f9",
   "metadata": {},
   "source": [
    "# Step 5\n",
    "View your data."
   ]
  },
  {
   "cell_type": "code",
   "execution_count": null,
   "id": "625f2ad9",
   "metadata": {},
   "outputs": [],
   "source": [
    "# View the Data in a Table\n",
    "df"
   ]
  },
  {
   "cell_type": "markdown",
   "id": "42fe4c8f",
   "metadata": {},
   "source": [
    "# Step 6\n",
    "Unpivot the metrics."
   ]
  },
  {
   "cell_type": "code",
   "execution_count": null,
   "id": "809d48da",
   "metadata": {},
   "outputs": [],
   "source": [
    "# Unpivot the Metrics\n",
    "df_unpivoted = df.melt(\n",
    "    col_level = 0\n",
    "    , id_vars = ['sizes', 'availability', 'price_range']\n",
    "   ,  value_vars = [\n",
    "         'A_all_options'\n",
    "       , 'B_wrong_color'\n",
    "       , 'C_wrong_brand'\n",
    "       , 'D_wrong_dimensions'\n",
    "       , 'E_correct_options'\n",
    "       , 'F_too_old'\n",
    "       , 'G_too_new'\n",
    "       , 'H_just_right_options'\n",
    "       , 'I_already_owned'\n",
    "       , 'J_still_want_options'\n",
    "    ]\n",
    "    , var_name = 'options_category'\n",
    "    , value_name = 'number_of_options'\n",
    ")"
   ]
  },
  {
   "cell_type": "markdown",
   "id": "c2194606",
   "metadata": {},
   "source": [
    "# Step 7\n",
    "Check shape of new dataframe."
   ]
  },
  {
   "cell_type": "code",
   "execution_count": null,
   "id": "10d901d6",
   "metadata": {},
   "outputs": [],
   "source": [
    "# Check the Shape of the Data (rows, columns)\n",
    "df_unpivoted.shape"
   ]
  },
  {
   "cell_type": "markdown",
   "id": "0477a233",
   "metadata": {},
   "source": [
    "# Step 8\n",
    "Make sure the Pandas settings will allow you to view all data, and then view the new dataset."
   ]
  },
  {
   "cell_type": "code",
   "execution_count": null,
   "id": "afb889e7",
   "metadata": {},
   "outputs": [],
   "source": [
    "# Set Pandas Settings to Display All Data in Table\n",
    "pd.set_option('display.max_columns', 5)\n",
    "pd.set_option('display.max_rows', 100)\n",
    "\n",
    "# View the Data in a Table\n",
    "df_unpivoted"
   ]
  },
  {
   "cell_type": "markdown",
   "id": "5dca5f42",
   "metadata": {},
   "source": [
    "# Step 9\n",
    "Create dataframes for size = S (Small) and size = L (Large) options."
   ]
  },
  {
   "cell_type": "code",
   "execution_count": null,
   "id": "3c451f03",
   "metadata": {},
   "outputs": [],
   "source": [
    "# Create dataframes for Small and Large options\n",
    "df_s = df_unpivoted[df_unpivoted.sizes.isin(['S'])]\n",
    "df_l = df_unpivoted[df_unpivoted.sizes.isin(['L'])]"
   ]
  },
  {
   "cell_type": "markdown",
   "id": "631a1c0b",
   "metadata": {},
   "source": [
    "# Step 10\n",
    "Create dataframes for Small and Large Available options by option categories."
   ]
  },
  {
   "cell_type": "code",
   "execution_count": null,
   "id": "6b17c771",
   "metadata": {},
   "outputs": [],
   "source": [
    "# Create dataframes for Small and Large Available options by option categories\n",
    "df_s_available = pd.pivot_table(\n",
    "    df_s\n",
    "    , values = 'number_of_options'\n",
    "    , index = ['options_category']\n",
    "    , columns = ['availability']\n",
    "    , aggfunc = np.sum\n",
    "    , fill_value = 0\n",
    ").rename(columns = {\"Available\" : \"S Available\"})\n",
    "\n",
    "df_l_available = pd.pivot_table(\n",
    "    df_l\n",
    "    , values = 'number_of_options'\n",
    "    , index = ['options_category']\n",
    "    , columns = ['availability']\n",
    "    , aggfunc = np.sum\n",
    "    , fill_value = 0\n",
    ").rename(columns = {\"Available\" : \"L Available\"})"
   ]
  },
  {
   "cell_type": "markdown",
   "id": "4a09933c",
   "metadata": {},
   "source": [
    "# Step 11\n",
    "Create dataframes for Small and Large Average Price options by option categories."
   ]
  },
  {
   "cell_type": "code",
   "execution_count": null,
   "id": "706a01b9",
   "metadata": {},
   "outputs": [],
   "source": [
    "# Create dataframes for Small and Large Average Priced options by option categories\n",
    "df_s_average = pd.pivot_table(\n",
    "    df_s\n",
    "    , values = 'number_of_options'\n",
    "    , index = ['options_category']\n",
    "    , columns = ['price_range']\n",
    "    , aggfunc = np.sum\n",
    "    , fill_value = 0\n",
    ").rename(columns = {\"Average\" : \"S Avg Price\"})\n",
    "\n",
    "df_l_average = pd.pivot_table(\n",
    "    df_l\n",
    "    , values = 'number_of_options'\n",
    "    , index = ['options_category']\n",
    "    , columns = ['price_range']\n",
    "    , aggfunc = np.sum\n",
    "    , fill_value = 0\n",
    ").rename(columns = {\"Average\" : \"L Avg Price\"})"
   ]
  },
  {
   "cell_type": "markdown",
   "id": "45f8a77d",
   "metadata": {},
   "source": [
    "# Step 12\n",
    "Create a datafame for Small and Large options by option categories."
   ]
  },
  {
   "cell_type": "code",
   "execution_count": null,
   "id": "dde916be",
   "metadata": {},
   "outputs": [],
   "source": [
    "# Create dataframe for Small and Large options by option categories\n",
    "df_s_ = pd.pivot_table(\n",
    "    df_s\n",
    "    , values = 'number_of_options'\n",
    "    , index = ['options_category']\n",
    "    , columns = ['sizes']\n",
    "    , aggfunc = np.sum\n",
    "    , fill_value = 0\n",
    ")\n",
    "\n",
    "df_l_ = pd.pivot_table(\n",
    "    df_l\n",
    "    , values = 'number_of_options'\n",
    "    , index = ['options_category']\n",
    "    , columns = ['sizes']\n",
    "    , aggfunc = np.sum\n",
    "    , fill_value = 0\n",
    ")"
   ]
  },
  {
   "cell_type": "markdown",
   "id": "003965ab",
   "metadata": {},
   "source": [
    "# Step 13\n",
    "Combine the above created dataframes into one dataframe to display the data as desired."
   ]
  },
  {
   "cell_type": "code",
   "execution_count": null,
   "id": "52b2758f",
   "metadata": {},
   "outputs": [],
   "source": [
    "# Combine into the desired dataframe structure\n",
    "df_final = pd.concat(\n",
    "    [\n",
    "          df_s_\n",
    "        , df_s_available\n",
    "        , df_s_average\n",
    "        , df_l_\n",
    "        , df_l_available\n",
    "        , df_l_average\n",
    "    ]\n",
    "    , axis = 1\n",
    ").style.format('{:,}')\n",
    "\n",
    "# Display the summarized and pivoted data\n",
    "df_final"
   ]
  }
 ],
 "metadata": {
  "kernelspec": {
   "display_name": "Python 3 (ipykernel)",
   "language": "python",
   "name": "python3"
  },
  "language_info": {
   "codemirror_mode": {
    "name": "ipython",
    "version": 3
   },
   "file_extension": ".py",
   "mimetype": "text/x-python",
   "name": "python",
   "nbconvert_exporter": "python",
   "pygments_lexer": "ipython3",
   "version": "3.9.13"
  }
 },
 "nbformat": 4,
 "nbformat_minor": 5
}
